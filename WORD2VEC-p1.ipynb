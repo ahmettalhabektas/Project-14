{
 "cells": [
  {
   "cell_type": "markdown",
   "id": "3a8b9327",
   "metadata": {},
   "source": [
    "# WORD2VEC-p1"
   ]
  },
  {
   "cell_type": "markdown",
   "id": "310aec24",
   "metadata": {},
   "source": [
    "https://www.kaggle.com/competitions/word2vec-nlp-tutorial"
   ]
  },
  {
   "cell_type": "markdown",
   "id": "6e7fd012",
   "metadata": {},
   "source": [
    "***Import libs and data Paths***"
   ]
  },
  {
   "cell_type": "code",
   "execution_count": 1,
   "id": "eef4b47b",
   "metadata": {
    "_cell_guid": "b1076dfc-b9ad-4769-8c92-a6c4dae69d19",
    "_uuid": "8f2839f25d086af736a60e9eeb907d3b93b6e0e5",
    "execution": {
     "iopub.execute_input": "2022-03-31T11:37:35.623947Z",
     "iopub.status.busy": "2022-03-31T11:37:35.622963Z",
     "iopub.status.idle": "2022-03-31T11:37:35.630672Z",
     "shell.execute_reply": "2022-03-31T11:37:35.631321Z",
     "shell.execute_reply.started": "2022-03-31T10:30:55.242848Z"
    },
    "papermill": {
     "duration": 0.042266,
     "end_time": "2022-03-31T11:37:35.631646",
     "exception": false,
     "start_time": "2022-03-31T11:37:35.589380",
     "status": "completed"
    },
    "tags": []
   },
   "outputs": [
    {
     "name": "stdout",
     "output_type": "stream",
     "text": [
      "/kaggle/input/word2vec-nlp-tutorial/testData.tsv.zip\n",
      "/kaggle/input/word2vec-nlp-tutorial/sampleSubmission.csv\n",
      "/kaggle/input/word2vec-nlp-tutorial/unlabeledTrainData.tsv.zip\n",
      "/kaggle/input/word2vec-nlp-tutorial/labeledTrainData.tsv.zip\n"
     ]
    }
   ],
   "source": [
    "import numpy as np # linear algebra\n",
    "import pandas as pd # data processing, CSV file I/O (e.g. pd.read_csv)\n",
    "\n",
    "import os\n",
    "for dirname, _, filenames in os.walk('/kaggle/input'):\n",
    "    for filename in filenames:\n",
    "        print(os.path.join(dirname, filename))\n"
   ]
  },
  {
   "cell_type": "markdown",
   "id": "008f3237",
   "metadata": {},
   "source": [
    "**Reading Data**"
   ]
  },
  {
   "cell_type": "code",
   "execution_count": 2,
   "id": "3a6bfb37",
   "metadata": {
    "execution": {
     "iopub.execute_input": "2022-03-31T11:37:35.683287Z",
     "iopub.status.busy": "2022-03-31T11:37:35.682604Z",
     "iopub.status.idle": "2022-03-31T11:37:36.770405Z",
     "shell.execute_reply": "2022-03-31T11:37:36.770925Z",
     "shell.execute_reply.started": "2022-03-31T10:30:55.385682Z"
    },
    "papermill": {
     "duration": 1.115197,
     "end_time": "2022-03-31T11:37:36.771111",
     "exception": false,
     "start_time": "2022-03-31T11:37:35.655914",
     "status": "completed"
    },
    "tags": []
   },
   "outputs": [
    {
     "name": "stdout",
     "output_type": "stream",
     "text": [
      "(25000, 3)\n"
     ]
    },
    {
     "data": {
      "text/html": [
       "<div>\n",
       "<style scoped>\n",
       "    .dataframe tbody tr th:only-of-type {\n",
       "        vertical-align: middle;\n",
       "    }\n",
       "\n",
       "    .dataframe tbody tr th {\n",
       "        vertical-align: top;\n",
       "    }\n",
       "\n",
       "    .dataframe thead th {\n",
       "        text-align: right;\n",
       "    }\n",
       "</style>\n",
       "<table border=\"1\" class=\"dataframe\">\n",
       "  <thead>\n",
       "    <tr style=\"text-align: right;\">\n",
       "      <th></th>\n",
       "      <th>id</th>\n",
       "      <th>sentiment</th>\n",
       "      <th>review</th>\n",
       "    </tr>\n",
       "  </thead>\n",
       "  <tbody>\n",
       "    <tr>\n",
       "      <th>0</th>\n",
       "      <td>\"5814_8\"</td>\n",
       "      <td>1</td>\n",
       "      <td>\"With all this stuff going down at the moment ...</td>\n",
       "    </tr>\n",
       "    <tr>\n",
       "      <th>1</th>\n",
       "      <td>\"2381_9\"</td>\n",
       "      <td>1</td>\n",
       "      <td>\"\\\"The Classic War of the Worlds\\\" by Timothy ...</td>\n",
       "    </tr>\n",
       "    <tr>\n",
       "      <th>2</th>\n",
       "      <td>\"7759_3\"</td>\n",
       "      <td>0</td>\n",
       "      <td>\"The film starts with a manager (Nicholas Bell...</td>\n",
       "    </tr>\n",
       "    <tr>\n",
       "      <th>3</th>\n",
       "      <td>\"3630_4\"</td>\n",
       "      <td>0</td>\n",
       "      <td>\"It must be assumed that those who praised thi...</td>\n",
       "    </tr>\n",
       "    <tr>\n",
       "      <th>4</th>\n",
       "      <td>\"9495_8\"</td>\n",
       "      <td>1</td>\n",
       "      <td>\"Superbly trashy and wondrously unpretentious ...</td>\n",
       "    </tr>\n",
       "  </tbody>\n",
       "</table>\n",
       "</div>"
      ],
      "text/plain": [
       "         id  sentiment                                             review\n",
       "0  \"5814_8\"          1  \"With all this stuff going down at the moment ...\n",
       "1  \"2381_9\"          1  \"\\\"The Classic War of the Worlds\\\" by Timothy ...\n",
       "2  \"7759_3\"          0  \"The film starts with a manager (Nicholas Bell...\n",
       "3  \"3630_4\"          0  \"It must be assumed that those who praised thi...\n",
       "4  \"9495_8\"          1  \"Superbly trashy and wondrously unpretentious ..."
      ]
     },
     "execution_count": 2,
     "metadata": {},
     "output_type": "execute_result"
    }
   ],
   "source": [
    "train = pd.read_csv(\"../input/word2vec-nlp-tutorial/labeledTrainData.tsv.zip\", header=0, delimiter=\"\\t\", quoting=3)\n",
    "print(train.shape)\n",
    "train.head()"
   ]
  },
  {
   "cell_type": "code",
   "execution_count": 3,
   "id": "10865862",
   "metadata": {
    "execution": {
     "iopub.execute_input": "2022-03-31T11:37:36.822936Z",
     "iopub.status.busy": "2022-03-31T11:37:36.822233Z",
     "iopub.status.idle": "2022-03-31T11:37:36.829804Z",
     "shell.execute_reply": "2022-03-31T11:37:36.830378Z",
     "shell.execute_reply.started": "2022-03-31T10:30:56.460362Z"
    },
    "papermill": {
     "duration": 0.035163,
     "end_time": "2022-03-31T11:37:36.830569",
     "exception": false,
     "start_time": "2022-03-31T11:37:36.795406",
     "status": "completed"
    },
    "tags": []
   },
   "outputs": [
    {
     "name": "stdout",
     "output_type": "stream",
     "text": [
      "\"\\\"The Classic War of the Worlds\\\" by Timothy Hines is a very entertaining film that obviously goes to great effort and lengths to faithfully recreate H. G. Wells' classic book. Mr. Hines succeeds in doing so. I, and those who watched his film with me, appreciated the fact that it was not the standard, predictable Hollywood fare that comes out every year, e.g. the Spielberg version with Tom Cruise that had only the slightest resemblance to the book. Obviously, everyone looks for different things in a movie. Those who envision themselves as amateur \\\"critics\\\" look only to criticize everything they can. Others rate a movie on more important bases,like being entertained, which is why most people never agree with the \\\"critics\\\". We enjoyed the effort Mr. Hines put into being faithful to H.G. Wells' classic novel, and we found it to be very entertaining. This made it easy to overlook what the \\\"critics\\\" perceive to be its shortcomings.\"\n"
     ]
    }
   ],
   "source": [
    "print(train['review'][1])"
   ]
  },
  {
   "cell_type": "code",
   "execution_count": 4,
   "id": "0b149607",
   "metadata": {
    "execution": {
     "iopub.execute_input": "2022-03-31T11:37:36.883258Z",
     "iopub.status.busy": "2022-03-31T11:37:36.882555Z",
     "iopub.status.idle": "2022-03-31T11:37:37.196967Z",
     "shell.execute_reply": "2022-03-31T11:37:37.196400Z",
     "shell.execute_reply.started": "2022-03-31T10:30:56.470895Z"
    },
    "papermill": {
     "duration": 0.341843,
     "end_time": "2022-03-31T11:37:37.197126",
     "exception": false,
     "start_time": "2022-03-31T11:37:36.855283",
     "status": "completed"
    },
    "tags": []
   },
   "outputs": [
    {
     "data": {
      "text/plain": [
       "'\"\\\\\"The Classic War of the Worlds\\\\\" by Timothy Hines is a very entertaining film that obviously goes to great effort and lengths to faithfully recreate H. G. Wells\\' classic book. Mr. Hines succeeds in doing so. I, and those who watched his film with me, appreciated the fact that it was not the standard, predictable Hollywood fare that comes out every year, e.g. the Spielberg version with Tom Cruise that had only the slightest resemblance to the book. Obviously, everyone looks for different things in a movie. Those who envision themselves as amateur \\\\\"critics\\\\\" look only to criticize everything they can. Others rate a movie on more important bases,like being entertained, which is why most people never agree with the \\\\\"critics\\\\\". We enjoyed the effort Mr. Hines put into being faithful to H.G. Wells\\' classic novel, and we found it to be very entertaining. This made it easy to overlook what the \\\\\"critics\\\\\" perceive to be its shortcomings.\"'"
      ]
     },
     "execution_count": 4,
     "metadata": {},
     "output_type": "execute_result"
    }
   ],
   "source": [
    "#Çorbayı daha güzel hale getiriyoruz (html uzantılarından vs. kurtuluyoruz)\n",
    "from bs4 import BeautifulSoup\n",
    "example1 = BeautifulSoup(train['review'][1])\n",
    "example1.get_text()"
   ]
  },
  {
   "cell_type": "code",
   "execution_count": 5,
   "id": "2df5d1f9",
   "metadata": {
    "execution": {
     "iopub.execute_input": "2022-03-31T11:37:37.253335Z",
     "iopub.status.busy": "2022-03-31T11:37:37.252265Z",
     "iopub.status.idle": "2022-03-31T11:37:37.256657Z",
     "shell.execute_reply": "2022-03-31T11:37:37.256001Z",
     "shell.execute_reply.started": "2022-03-31T10:30:56.796678Z"
    },
    "papermill": {
     "duration": 0.034488,
     "end_time": "2022-03-31T11:37:37.256808",
     "exception": false,
     "start_time": "2022-03-31T11:37:37.222320",
     "status": "completed"
    },
    "tags": []
   },
   "outputs": [
    {
     "name": "stdout",
     "output_type": "stream",
     "text": [
      "   The Classic War of the Worlds   by Timothy Hines is a very entertaining film that obviously goes to great effort and lengths to faithfully recreate H  G  Wells  classic book  Mr  Hines succeeds in doing so  I  and those who watched his film with me  appreciated the fact that it was not the standard  predictable Hollywood fare that comes out every year  e g  the Spielberg version with Tom Cruise that had only the slightest resemblance to the book  Obviously  everyone looks for different things in a movie  Those who envision themselves as amateur   critics   look only to criticize everything they can  Others rate a movie on more important bases like being entertained  which is why most people never agree with the   critics    We enjoyed the effort Mr  Hines put into being faithful to H G  Wells  classic novel  and we found it to be very entertaining  This made it easy to overlook what the   critics   perceive to be its shortcomings  \n"
     ]
    }
   ],
   "source": [
    "# Sadece harfler kalıyor\n",
    "import re\n",
    "letters_only = re.sub(\"[^a-zA-Z]\", \" \", example1.get_text())\n",
    "print(letters_only)"
   ]
  },
  {
   "cell_type": "code",
   "execution_count": 6,
   "id": "65a22946",
   "metadata": {
    "execution": {
     "iopub.execute_input": "2022-03-31T11:37:37.313582Z",
     "iopub.status.busy": "2022-03-31T11:37:37.312556Z",
     "iopub.status.idle": "2022-03-31T11:37:37.315882Z",
     "shell.execute_reply": "2022-03-31T11:37:37.315339Z",
     "shell.execute_reply.started": "2022-03-31T10:30:56.804128Z"
    },
    "papermill": {
     "duration": 0.033828,
     "end_time": "2022-03-31T11:37:37.316068",
     "exception": false,
     "start_time": "2022-03-31T11:37:37.282240",
     "status": "completed"
    },
    "tags": []
   },
   "outputs": [],
   "source": [
    "#Her şey küçük harf oluyor ver sadece kelimeleri alıyoruz\n",
    "lower_case = letters_only.lower()\n",
    "words = lower_case.split()"
   ]
  },
  {
   "cell_type": "code",
   "execution_count": 7,
   "id": "a434e4f7",
   "metadata": {
    "execution": {
     "iopub.execute_input": "2022-03-31T11:37:37.372473Z",
     "iopub.status.busy": "2022-03-31T11:37:37.371743Z",
     "iopub.status.idle": "2022-03-31T11:37:38.934525Z",
     "shell.execute_reply": "2022-03-31T11:37:38.935082Z",
     "shell.execute_reply.started": "2022-03-31T10:30:56.818612Z"
    },
    "papermill": {
     "duration": 1.593688,
     "end_time": "2022-03-31T11:37:38.935266",
     "exception": false,
     "start_time": "2022-03-31T11:37:37.341578",
     "status": "completed"
    },
    "tags": []
   },
   "outputs": [
    {
     "name": "stdout",
     "output_type": "stream",
     "text": [
      "['i', 'me', 'my', 'myself', 'we', 'our', 'ours', 'ourselves', 'you', \"you're\", \"you've\", \"you'll\", \"you'd\", 'your', 'yours', 'yourself', 'yourselves', 'he', 'him', 'his', 'himself', 'she', \"she's\", 'her', 'hers', 'herself', 'it', \"it's\", 'its', 'itself', 'they', 'them', 'their', 'theirs', 'themselves', 'what', 'which', 'who', 'whom', 'this', 'that', \"that'll\", 'these', 'those', 'am', 'is', 'are', 'was', 'were', 'be', 'been', 'being', 'have', 'has', 'had', 'having', 'do', 'does', 'did', 'doing', 'a', 'an', 'the', 'and', 'but', 'if', 'or', 'because', 'as', 'until', 'while', 'of', 'at', 'by', 'for', 'with', 'about', 'against', 'between', 'into', 'through', 'during', 'before', 'after', 'above', 'below', 'to', 'from', 'up', 'down', 'in', 'out', 'on', 'off', 'over', 'under', 'again', 'further', 'then', 'once', 'here', 'there', 'when', 'where', 'why', 'how', 'all', 'any', 'both', 'each', 'few', 'more', 'most', 'other', 'some', 'such', 'no', 'nor', 'not', 'only', 'own', 'same', 'so', 'than', 'too', 'very', 's', 't', 'can', 'will', 'just', 'don', \"don't\", 'should', \"should've\", 'now', 'd', 'll', 'm', 'o', 're', 've', 'y', 'ain', 'aren', \"aren't\", 'couldn', \"couldn't\", 'didn', \"didn't\", 'doesn', \"doesn't\", 'hadn', \"hadn't\", 'hasn', \"hasn't\", 'haven', \"haven't\", 'isn', \"isn't\", 'ma', 'mightn', \"mightn't\", 'mustn', \"mustn't\", 'needn', \"needn't\", 'shan', \"shan't\", 'shouldn', \"shouldn't\", 'wasn', \"wasn't\", 'weren', \"weren't\", 'won', \"won't\", 'wouldn', \"wouldn't\"]\n"
     ]
    }
   ],
   "source": [
    "import nltk\n",
    "from nltk.corpus import stopwords\n",
    "print((stopwords.words(\"english\")))"
   ]
  },
  {
   "cell_type": "code",
   "execution_count": 8,
   "id": "29518020",
   "metadata": {
    "execution": {
     "iopub.execute_input": "2022-03-31T11:37:38.997022Z",
     "iopub.status.busy": "2022-03-31T11:37:38.995950Z",
     "iopub.status.idle": "2022-03-31T11:37:39.029754Z",
     "shell.execute_reply": "2022-03-31T11:37:39.030469Z",
     "shell.execute_reply.started": "2022-03-31T10:30:58.371427Z"
    },
    "papermill": {
     "duration": 0.065646,
     "end_time": "2022-03-31T11:37:39.030670",
     "exception": false,
     "start_time": "2022-03-31T11:37:38.965024",
     "status": "completed"
    },
    "tags": []
   },
   "outputs": [
    {
     "name": "stdout",
     "output_type": "stream",
     "text": [
      "['classic', 'war', 'worlds', 'timothy', 'hines', 'entertaining', 'film', 'obviously', 'goes', 'great', 'effort', 'lengths', 'faithfully', 'recreate', 'h', 'g', 'wells', 'classic', 'book', 'mr', 'hines', 'succeeds', 'watched', 'film', 'appreciated', 'fact', 'standard', 'predictable', 'hollywood', 'fare', 'comes', 'every', 'year', 'e', 'g', 'spielberg', 'version', 'tom', 'cruise', 'slightest', 'resemblance', 'book', 'obviously', 'everyone', 'looks', 'different', 'things', 'movie', 'envision', 'amateur', 'critics', 'look', 'criticize', 'everything', 'others', 'rate', 'movie', 'important', 'bases', 'like', 'entertained', 'people', 'never', 'agree', 'critics', 'enjoyed', 'effort', 'mr', 'hines', 'put', 'faithful', 'h', 'g', 'wells', 'classic', 'novel', 'found', 'entertaining', 'made', 'easy', 'overlook', 'critics', 'perceive', 'shortcomings']\n"
     ]
    }
   ],
   "source": [
    "words = [w for w in words if w not in stopwords.words(\"english\")]\n",
    "print(words)\n",
    "#Stopwords de olan kelimeleri kaldırma"
   ]
  },
  {
   "cell_type": "code",
   "execution_count": 9,
   "id": "562c3b3b",
   "metadata": {
    "execution": {
     "iopub.execute_input": "2022-03-31T11:37:39.086984Z",
     "iopub.status.busy": "2022-03-31T11:37:39.085962Z",
     "iopub.status.idle": "2022-03-31T11:37:39.091443Z",
     "shell.execute_reply": "2022-03-31T11:37:39.091955Z",
     "shell.execute_reply.started": "2022-03-31T10:30:58.401501Z"
    },
    "papermill": {
     "duration": 0.035047,
     "end_time": "2022-03-31T11:37:39.092130",
     "exception": false,
     "start_time": "2022-03-31T11:37:39.057083",
     "status": "completed"
    },
    "tags": []
   },
   "outputs": [
    {
     "data": {
      "text/plain": [
       "'classic war worlds timothy hines entertaining film obviously goes great effort lengths faithfully recreate h g wells classic book mr hines succeeds watched film appreciated fact standard predictable hollywood fare comes every year e g spielberg version tom cruise slightest resemblance book obviously everyone looks different things movie envision amateur critics look criticize everything others rate movie important bases like entertained people never agree critics enjoyed effort mr hines put faithful h g wells classic novel found entertaining made easy overlook critics perceive shortcomings'"
      ]
     },
     "execution_count": 9,
     "metadata": {},
     "output_type": "execute_result"
    }
   ],
   "source": [
    "meaningful_words = \" \".join(words)\n",
    "meaningful_words\n",
    "# Kelşmeleri birleştiriyoruz"
   ]
  },
  {
   "cell_type": "markdown",
   "id": "7fd5f7ca",
   "metadata": {},
   "source": [
    "#### hadi şimdi yukarda yaptıklarımızı bir fonksiyona atayalım"
   ]
  },
  {
   "cell_type": "code",
   "execution_count": 10,
   "id": "a8126eb9",
   "metadata": {
    "execution": {
     "iopub.execute_input": "2022-03-31T11:37:39.151161Z",
     "iopub.status.busy": "2022-03-31T11:37:39.150464Z",
     "iopub.status.idle": "2022-03-31T11:37:39.153635Z",
     "shell.execute_reply": "2022-03-31T11:37:39.153075Z",
     "shell.execute_reply.started": "2022-03-31T10:30:58.410267Z"
    },
    "papermill": {
     "duration": 0.035601,
     "end_time": "2022-03-31T11:37:39.153792",
     "exception": false,
     "start_time": "2022-03-31T11:37:39.118191",
     "status": "completed"
    },
    "tags": []
   },
   "outputs": [],
   "source": [
    "def review_to_words(review):\n",
    "    \n",
    "    review_text = BeautifulSoup(review).get_text()\n",
    "    letters_only = re.sub(\"[^a-zA-Z]\", \" \", review_text)\n",
    "    words = letters_only.lower().split()\n",
    "    stop_words = set(stopwords.words(\"english\"))\n",
    "    final_words = [w for w in words if w not in stop_words]\n",
    "    return (\" \".join(final_words))\n",
    "        "
   ]
  },
  {
   "cell_type": "code",
   "execution_count": 11,
   "id": "d431c019",
   "metadata": {
    "execution": {
     "iopub.execute_input": "2022-03-31T11:37:39.212777Z",
     "iopub.status.busy": "2022-03-31T11:37:39.212140Z",
     "iopub.status.idle": "2022-03-31T11:37:39.218085Z",
     "shell.execute_reply": "2022-03-31T11:37:39.218614Z",
     "shell.execute_reply.started": "2022-03-31T10:30:58.424785Z"
    },
    "papermill": {
     "duration": 0.036224,
     "end_time": "2022-03-31T11:37:39.218807",
     "exception": false,
     "start_time": "2022-03-31T11:37:39.182583",
     "status": "completed"
    },
    "tags": []
   },
   "outputs": [
    {
     "data": {
      "text/plain": [
       "'classic war worlds timothy hines entertaining film obviously goes great effort lengths faithfully recreate h g wells classic book mr hines succeeds watched film appreciated fact standard predictable hollywood fare comes every year e g spielberg version tom cruise slightest resemblance book obviously everyone looks different things movie envision amateur critics look criticize everything others rate movie important bases like entertained people never agree critics enjoyed effort mr hines put faithful h g wells classic novel found entertaining made easy overlook critics perceive shortcomings'"
      ]
     },
     "execution_count": 11,
     "metadata": {},
     "output_type": "execute_result"
    }
   ],
   "source": [
    "clean_review = review_to_words(train[\"review\"][1])\n",
    "clean_review"
   ]
  },
  {
   "cell_type": "code",
   "execution_count": 12,
   "id": "56c1472c",
   "metadata": {
    "execution": {
     "iopub.execute_input": "2022-03-31T11:37:39.280142Z",
     "iopub.status.busy": "2022-03-31T11:37:39.279355Z",
     "iopub.status.idle": "2022-03-31T11:38:00.186698Z",
     "shell.execute_reply": "2022-03-31T11:38:00.185518Z",
     "shell.execute_reply.started": "2022-03-31T10:30:58.441429Z"
    },
    "papermill": {
     "duration": 20.941213,
     "end_time": "2022-03-31T11:38:00.187051",
     "exception": false,
     "start_time": "2022-03-31T11:37:39.245838",
     "status": "completed"
    },
    "tags": []
   },
   "outputs": [
    {
     "name": "stdout",
     "output_type": "stream",
     "text": [
      "Review 1000 of 25000\n",
      "Review 2000 of 25000\n",
      "Review 3000 of 25000\n",
      "Review 4000 of 25000\n",
      "Review 5000 of 25000\n",
      "Review 6000 of 25000\n",
      "Review 7000 of 25000\n",
      "Review 8000 of 25000\n",
      "Review 9000 of 25000\n",
      "Review 10000 of 25000\n",
      "Review 11000 of 25000\n",
      "Review 12000 of 25000\n",
      "Review 13000 of 25000\n",
      "Review 14000 of 25000\n",
      "Review 15000 of 25000\n",
      "Review 16000 of 25000\n",
      "Review 17000 of 25000\n",
      "Review 18000 of 25000\n",
      "Review 19000 of 25000\n",
      "Review 20000 of 25000\n",
      "Review 21000 of 25000\n",
      "Review 22000 of 25000\n",
      "Review 23000 of 25000\n",
      "Review 24000 of 25000\n",
      "Review 25000 of 25000\n"
     ]
    }
   ],
   "source": [
    "num_reviews = len(train[\"review\"])\n",
    "\n",
    "clean_train_reviews = []\n",
    "\n",
    "for i in range(0, num_reviews):\n",
    "    clean_train_reviews.append(review_to_words(train[\"review\"][i]))\n",
    "    if ((i+1) % 1000 == 0):\n",
    "        print(\"Review %d of %d\" % (i+1, num_reviews))"
   ]
  },
  {
   "cell_type": "code",
   "execution_count": 13,
   "id": "e127c56b",
   "metadata": {
    "execution": {
     "iopub.execute_input": "2022-03-31T11:38:00.316771Z",
     "iopub.status.busy": "2022-03-31T11:38:00.306092Z",
     "iopub.status.idle": "2022-03-31T11:38:04.896294Z",
     "shell.execute_reply": "2022-03-31T11:38:04.895439Z",
     "shell.execute_reply.started": "2022-03-31T10:55:17.899745Z"
    },
    "papermill": {
     "duration": 4.668588,
     "end_time": "2022-03-31T11:38:04.896461",
     "exception": false,
     "start_time": "2022-03-31T11:38:00.227873",
     "status": "completed"
    },
    "tags": []
   },
   "outputs": [],
   "source": [
    "# Cümlede geçen kelimelere göre bi vektörizasyon yapıyoruz\n",
    "from sklearn.feature_extraction.text import CountVectorizer\n",
    "\n",
    "vectorizer = CountVectorizer(max_features = 5000)\n",
    "train_features = vectorizer.fit_transform(clean_train_reviews)\n",
    "train_features = train_features.toarray()"
   ]
  },
  {
   "cell_type": "code",
   "execution_count": 14,
   "id": "3fd6d49d",
   "metadata": {
    "execution": {
     "iopub.execute_input": "2022-03-31T11:38:04.974240Z",
     "iopub.status.busy": "2022-03-31T11:38:04.973465Z",
     "iopub.status.idle": "2022-03-31T11:38:04.983125Z",
     "shell.execute_reply": "2022-03-31T11:38:04.982507Z",
     "shell.execute_reply.started": "2022-03-31T11:06:14.314914Z"
    },
    "papermill": {
     "duration": 0.050894,
     "end_time": "2022-03-31T11:38:04.983288",
     "exception": false,
     "start_time": "2022-03-31T11:38:04.932394",
     "status": "completed"
    },
    "tags": []
   },
   "outputs": [
    {
     "name": "stderr",
     "output_type": "stream",
     "text": [
      "/opt/conda/lib/python3.7/site-packages/sklearn/utils/deprecation.py:87: FutureWarning: Function get_feature_names is deprecated; get_feature_names is deprecated in 1.0 and will be removed in 1.2. Please use get_feature_names_out instead.\n",
      "  warnings.warn(msg, category=FutureWarning)\n"
     ]
    }
   ],
   "source": [
    "vocab = vectorizer.get_feature_names()\n",
    "#print(vocab)"
   ]
  },
  {
   "cell_type": "code",
   "execution_count": 15,
   "id": "5cbe6cd0",
   "metadata": {
    "execution": {
     "iopub.execute_input": "2022-03-31T11:38:05.064266Z",
     "iopub.status.busy": "2022-03-31T11:38:05.063539Z",
     "iopub.status.idle": "2022-03-31T11:38:05.190746Z",
     "shell.execute_reply": "2022-03-31T11:38:05.190117Z",
     "shell.execute_reply.started": "2022-03-31T11:10:08.373465Z"
    },
    "papermill": {
     "duration": 0.169242,
     "end_time": "2022-03-31T11:38:05.190922",
     "exception": false,
     "start_time": "2022-03-31T11:38:05.021680",
     "status": "completed"
    },
    "tags": []
   },
   "outputs": [
    {
     "name": "stdout",
     "output_type": "stream",
     "text": [
      "abandoned 187\n",
      "abc 125\n",
      "abilities 108\n",
      "ability 454\n",
      "able 1259\n",
      "abraham 85\n",
      "absence 116\n",
      "absent 83\n",
      "absolute 352\n",
      "absolutely 1485\n",
      "absurd 306\n",
      "abuse 192\n",
      "abusive 91\n",
      "abysmal 98\n",
      "academy 297\n",
      "accent 485\n",
      "accents 203\n",
      "accept 300\n",
      "acceptable 130\n",
      "accepted 144\n"
     ]
    }
   ],
   "source": [
    "dist = np.sum(train_features, axis = 0)\n",
    "\n",
    "sum = 0\n",
    "for tag, count in zip(vocab, dist):\n",
    "    print(tag, count)\n",
    "    sum += 1\n",
    "    if sum == 20:\n",
    "        break"
   ]
  },
  {
   "cell_type": "code",
   "execution_count": 16,
   "id": "8f05e88e",
   "metadata": {
    "execution": {
     "iopub.execute_input": "2022-03-31T11:38:05.274017Z",
     "iopub.status.busy": "2022-03-31T11:38:05.273178Z",
     "iopub.status.idle": "2022-03-31T11:39:04.037270Z",
     "shell.execute_reply": "2022-03-31T11:39:04.037790Z",
     "shell.execute_reply.started": "2022-03-31T11:21:43.511572Z"
    },
    "papermill": {
     "duration": 58.809425,
     "end_time": "2022-03-31T11:39:04.038005",
     "exception": false,
     "start_time": "2022-03-31T11:38:05.228580",
     "status": "completed"
    },
    "tags": []
   },
   "outputs": [
    {
     "data": {
      "text/plain": [
       "RandomForestClassifier(random_state=0)"
      ]
     },
     "execution_count": 16,
     "metadata": {},
     "output_type": "execute_result"
    }
   ],
   "source": [
    "from sklearn.ensemble import RandomForestClassifier\n",
    "\n",
    "forest = RandomForestClassifier(verbose = 0, random_state = 42)\n",
    "\n",
    "forest.fit(train_features, train['sentiment'])"
   ]
  },
  {
   "cell_type": "code",
   "execution_count": 17,
   "id": "1efff57c",
   "metadata": {
    "execution": {
     "iopub.execute_input": "2022-03-31T11:39:04.122949Z",
     "iopub.status.busy": "2022-03-31T11:39:04.121464Z",
     "iopub.status.idle": "2022-03-31T11:39:04.977727Z",
     "shell.execute_reply": "2022-03-31T11:39:04.978280Z",
     "shell.execute_reply.started": "2022-03-31T11:22:51.493359Z"
    },
    "papermill": {
     "duration": 0.900782,
     "end_time": "2022-03-31T11:39:04.978474",
     "exception": false,
     "start_time": "2022-03-31T11:39:04.077692",
     "status": "completed"
    },
    "tags": []
   },
   "outputs": [
    {
     "name": "stdout",
     "output_type": "stream",
     "text": [
      "(25000, 2)\n"
     ]
    },
    {
     "data": {
      "text/html": [
       "<div>\n",
       "<style scoped>\n",
       "    .dataframe tbody tr th:only-of-type {\n",
       "        vertical-align: middle;\n",
       "    }\n",
       "\n",
       "    .dataframe tbody tr th {\n",
       "        vertical-align: top;\n",
       "    }\n",
       "\n",
       "    .dataframe thead th {\n",
       "        text-align: right;\n",
       "    }\n",
       "</style>\n",
       "<table border=\"1\" class=\"dataframe\">\n",
       "  <thead>\n",
       "    <tr style=\"text-align: right;\">\n",
       "      <th></th>\n",
       "      <th>id</th>\n",
       "      <th>review</th>\n",
       "    </tr>\n",
       "  </thead>\n",
       "  <tbody>\n",
       "    <tr>\n",
       "      <th>0</th>\n",
       "      <td>\"12311_10\"</td>\n",
       "      <td>\"Naturally in a film who's main themes are of ...</td>\n",
       "    </tr>\n",
       "    <tr>\n",
       "      <th>1</th>\n",
       "      <td>\"8348_2\"</td>\n",
       "      <td>\"This movie is a disaster within a disaster fi...</td>\n",
       "    </tr>\n",
       "    <tr>\n",
       "      <th>2</th>\n",
       "      <td>\"5828_4\"</td>\n",
       "      <td>\"All in all, this is a movie for kids. We saw ...</td>\n",
       "    </tr>\n",
       "    <tr>\n",
       "      <th>3</th>\n",
       "      <td>\"7186_2\"</td>\n",
       "      <td>\"Afraid of the Dark left me with the impressio...</td>\n",
       "    </tr>\n",
       "    <tr>\n",
       "      <th>4</th>\n",
       "      <td>\"12128_7\"</td>\n",
       "      <td>\"A very accurate depiction of small time mob l...</td>\n",
       "    </tr>\n",
       "  </tbody>\n",
       "</table>\n",
       "</div>"
      ],
      "text/plain": [
       "           id                                             review\n",
       "0  \"12311_10\"  \"Naturally in a film who's main themes are of ...\n",
       "1    \"8348_2\"  \"This movie is a disaster within a disaster fi...\n",
       "2    \"5828_4\"  \"All in all, this is a movie for kids. We saw ...\n",
       "3    \"7186_2\"  \"Afraid of the Dark left me with the impressio...\n",
       "4   \"12128_7\"  \"A very accurate depiction of small time mob l..."
      ]
     },
     "execution_count": 17,
     "metadata": {},
     "output_type": "execute_result"
    }
   ],
   "source": [
    "test = pd.read_csv(\"../input/word2vec-nlp-tutorial/testData.tsv.zip\", header=0, delimiter=\"\\t\", quoting=3)\n",
    "print(test.shape)\n",
    "test.head()"
   ]
  },
  {
   "cell_type": "code",
   "execution_count": 18,
   "id": "330c197e",
   "metadata": {
    "execution": {
     "iopub.execute_input": "2022-03-31T11:39:05.064163Z",
     "iopub.status.busy": "2022-03-31T11:39:05.063126Z",
     "iopub.status.idle": "2022-03-31T11:39:25.277651Z",
     "shell.execute_reply": "2022-03-31T11:39:25.276817Z",
     "shell.execute_reply.started": "2022-03-31T11:29:26.212582Z"
    },
    "papermill": {
     "duration": 20.260298,
     "end_time": "2022-03-31T11:39:25.277868",
     "exception": false,
     "start_time": "2022-03-31T11:39:05.017570",
     "status": "completed"
    },
    "tags": []
   },
   "outputs": [
    {
     "name": "stdout",
     "output_type": "stream",
     "text": [
      "Review 5000 of 25000\n",
      "Review 10000 of 25000\n",
      "Review 15000 of 25000\n",
      "Review 20000 of 25000\n",
      "Review 25000 of 25000\n"
     ]
    }
   ],
   "source": [
    "num_test_reviews = len(test)\n",
    "clean_test_reviews = []\n",
    "\n",
    "for i in range(0, num_test_reviews):\n",
    "    clean_test_reviews.append(review_to_words(test[\"review\"][i]))\n",
    "    if ((i+1) % 5000 == 0):\n",
    "        print(\"Review %d of %d\" % (i+1, num_test_reviews))\n"
   ]
  },
  {
   "cell_type": "code",
   "execution_count": 19,
   "id": "6ff1dbe4",
   "metadata": {
    "execution": {
     "iopub.execute_input": "2022-03-31T11:39:25.361955Z",
     "iopub.status.busy": "2022-03-31T11:39:25.360987Z",
     "iopub.status.idle": "2022-03-31T11:39:29.935165Z",
     "shell.execute_reply": "2022-03-31T11:39:29.934600Z",
     "shell.execute_reply.started": "2022-03-31T11:31:11.250474Z"
    },
    "papermill": {
     "duration": 4.617343,
     "end_time": "2022-03-31T11:39:29.935321",
     "exception": false,
     "start_time": "2022-03-31T11:39:25.317978",
     "status": "completed"
    },
    "tags": []
   },
   "outputs": [],
   "source": [
    "test_data_features = vectorizer.transform(clean_test_reviews)\n",
    "test_data_features = test_data_features.toarray()"
   ]
  },
  {
   "cell_type": "code",
   "execution_count": 20,
   "id": "f041a04c",
   "metadata": {
    "execution": {
     "iopub.execute_input": "2022-03-31T11:39:30.025147Z",
     "iopub.status.busy": "2022-03-31T11:39:30.024417Z",
     "iopub.status.idle": "2022-03-31T11:39:32.390728Z",
     "shell.execute_reply": "2022-03-31T11:39:32.390085Z",
     "shell.execute_reply.started": "2022-03-31T11:37:01.480023Z"
    },
    "papermill": {
     "duration": 2.413579,
     "end_time": "2022-03-31T11:39:32.390885",
     "exception": false,
     "start_time": "2022-03-31T11:39:29.977306",
     "status": "completed"
    },
    "tags": []
   },
   "outputs": [],
   "source": [
    "result = forest.predict(test_data_features)"
   ]
  },
  {
   "cell_type": "code",
   "execution_count": 21,
   "id": "95271160",
   "metadata": {
    "execution": {
     "iopub.execute_input": "2022-03-31T11:39:32.482308Z",
     "iopub.status.busy": "2022-03-31T11:39:32.481407Z",
     "iopub.status.idle": "2022-03-31T11:39:32.514382Z",
     "shell.execute_reply": "2022-03-31T11:39:32.515026Z",
     "shell.execute_reply.started": "2022-03-31T11:37:05.990324Z"
    },
    "papermill": {
     "duration": 0.083684,
     "end_time": "2022-03-31T11:39:32.515222",
     "exception": false,
     "start_time": "2022-03-31T11:39:32.431538",
     "status": "completed"
    },
    "tags": []
   },
   "outputs": [],
   "source": [
    "output = pd.DataFrame(data={'id':test['id'], 'sentiment':result})\n",
    "output.to_csv(\"submission.csv\", index = False, quoting=3)"
   ]
  },
  {
   "cell_type": "code",
   "execution_count": null,
   "id": "195cf834",
   "metadata": {
    "papermill": {
     "duration": 0.040447,
     "end_time": "2022-03-31T11:39:32.596511",
     "exception": false,
     "start_time": "2022-03-31T11:39:32.556064",
     "status": "completed"
    },
    "tags": []
   },
   "outputs": [],
   "source": []
  }
 ],
 "metadata": {
  "kernelspec": {
   "display_name": "Python 3 (ipykernel)",
   "language": "python",
   "name": "python3"
  },
  "language_info": {
   "codemirror_mode": {
    "name": "ipython",
    "version": 3
   },
   "file_extension": ".py",
   "mimetype": "text/x-python",
   "name": "python",
   "nbconvert_exporter": "python",
   "pygments_lexer": "ipython3",
   "version": "3.9.7"
  },
  "papermill": {
   "default_parameters": {},
   "duration": 127.958647,
   "end_time": "2022-03-31T11:39:33.549016",
   "environment_variables": {},
   "exception": null,
   "input_path": "__notebook__.ipynb",
   "output_path": "__notebook__.ipynb",
   "parameters": {},
   "start_time": "2022-03-31T11:37:25.590369",
   "version": "2.3.3"
  }
 },
 "nbformat": 4,
 "nbformat_minor": 5
}
